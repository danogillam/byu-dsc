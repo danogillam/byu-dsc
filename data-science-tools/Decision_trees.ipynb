{
 "cells": [
  {
   "cell_type": "markdown",
   "metadata": {
    "collapsed": true
   },
   "source": [
    "# Decision trees and Random Forests"
   ]
  },
  {
   "cell_type": "markdown",
   "metadata": {},
   "source": [
    "## Decision Trees\n",
    "The goal of a decision tree is to create a model that predicts the value of a target variable based on several input variables. Each interior node corresponds to one of the input variables. Each leaf represents a value of the target variable given the values of the input variables represented by the path from the root to the leaf."
   ]
  },
  {
   "cell_type": "code",
   "execution_count": 66,
   "metadata": {
    "collapsed": false
   },
   "outputs": [
    {
     "data": {
      "text/html": [
       "<div>\n",
       "<table border=\"1\" class=\"dataframe\">\n",
       "  <thead>\n",
       "    <tr style=\"text-align: right;\">\n",
       "      <th></th>\n",
       "      <th>PassengerId</th>\n",
       "      <th>Survived</th>\n",
       "      <th>Pclass</th>\n",
       "      <th>Name</th>\n",
       "      <th>Sex</th>\n",
       "      <th>Age</th>\n",
       "      <th>SibSp</th>\n",
       "      <th>Parch</th>\n",
       "      <th>Ticket</th>\n",
       "      <th>Fare</th>\n",
       "      <th>Cabin</th>\n",
       "      <th>Embarked</th>\n",
       "    </tr>\n",
       "  </thead>\n",
       "  <tbody>\n",
       "    <tr>\n",
       "      <th>0</th>\n",
       "      <td>1</td>\n",
       "      <td>0</td>\n",
       "      <td>3</td>\n",
       "      <td>Braund, Mr. Owen Harris</td>\n",
       "      <td>male</td>\n",
       "      <td>22</td>\n",
       "      <td>1</td>\n",
       "      <td>0</td>\n",
       "      <td>A/5 21171</td>\n",
       "      <td>7.2500</td>\n",
       "      <td>NaN</td>\n",
       "      <td>S</td>\n",
       "    </tr>\n",
       "    <tr>\n",
       "      <th>1</th>\n",
       "      <td>2</td>\n",
       "      <td>1</td>\n",
       "      <td>1</td>\n",
       "      <td>Cumings, Mrs. John Bradley (Florence Briggs Th...</td>\n",
       "      <td>female</td>\n",
       "      <td>38</td>\n",
       "      <td>1</td>\n",
       "      <td>0</td>\n",
       "      <td>PC 17599</td>\n",
       "      <td>71.2833</td>\n",
       "      <td>C85</td>\n",
       "      <td>C</td>\n",
       "    </tr>\n",
       "    <tr>\n",
       "      <th>2</th>\n",
       "      <td>3</td>\n",
       "      <td>1</td>\n",
       "      <td>3</td>\n",
       "      <td>Heikkinen, Miss. Laina</td>\n",
       "      <td>female</td>\n",
       "      <td>26</td>\n",
       "      <td>0</td>\n",
       "      <td>0</td>\n",
       "      <td>STON/O2. 3101282</td>\n",
       "      <td>7.9250</td>\n",
       "      <td>NaN</td>\n",
       "      <td>S</td>\n",
       "    </tr>\n",
       "    <tr>\n",
       "      <th>3</th>\n",
       "      <td>4</td>\n",
       "      <td>1</td>\n",
       "      <td>1</td>\n",
       "      <td>Futrelle, Mrs. Jacques Heath (Lily May Peel)</td>\n",
       "      <td>female</td>\n",
       "      <td>35</td>\n",
       "      <td>1</td>\n",
       "      <td>0</td>\n",
       "      <td>113803</td>\n",
       "      <td>53.1000</td>\n",
       "      <td>C123</td>\n",
       "      <td>S</td>\n",
       "    </tr>\n",
       "    <tr>\n",
       "      <th>4</th>\n",
       "      <td>5</td>\n",
       "      <td>0</td>\n",
       "      <td>3</td>\n",
       "      <td>Allen, Mr. William Henry</td>\n",
       "      <td>male</td>\n",
       "      <td>35</td>\n",
       "      <td>0</td>\n",
       "      <td>0</td>\n",
       "      <td>373450</td>\n",
       "      <td>8.0500</td>\n",
       "      <td>NaN</td>\n",
       "      <td>S</td>\n",
       "    </tr>\n",
       "  </tbody>\n",
       "</table>\n",
       "</div>"
      ],
      "text/plain": [
       "   PassengerId  Survived  Pclass  \\\n",
       "0            1         0       3   \n",
       "1            2         1       1   \n",
       "2            3         1       3   \n",
       "3            4         1       1   \n",
       "4            5         0       3   \n",
       "\n",
       "                                                Name     Sex  Age  SibSp  \\\n",
       "0                            Braund, Mr. Owen Harris    male   22      1   \n",
       "1  Cumings, Mrs. John Bradley (Florence Briggs Th...  female   38      1   \n",
       "2                             Heikkinen, Miss. Laina  female   26      0   \n",
       "3       Futrelle, Mrs. Jacques Heath (Lily May Peel)  female   35      1   \n",
       "4                           Allen, Mr. William Henry    male   35      0   \n",
       "\n",
       "   Parch            Ticket     Fare Cabin Embarked  \n",
       "0      0         A/5 21171   7.2500   NaN        S  \n",
       "1      0          PC 17599  71.2833   C85        C  \n",
       "2      0  STON/O2. 3101282   7.9250   NaN        S  \n",
       "3      0            113803  53.1000  C123        S  \n",
       "4      0            373450   8.0500   NaN        S  "
      ]
     },
     "execution_count": 66,
     "metadata": {},
     "output_type": "execute_result"
    }
   ],
   "source": [
    "import pandas as pd\n",
    "%matplotlib inline\n",
    "datafile = '~/databases/titanic/train.csv'\n",
    "titanic = pd.read_csv(datafile)\n",
    "titanic[:5]"
   ]
  },
  {
   "cell_type": "markdown",
   "metadata": {},
   "source": [
    "#### Some Vocab\n",
    "* **Class**: Each element of the domain of the classification. \n",
    "    * example: Survived, died\n",
    "* **Feature**:  \n",
    "    * example: age, sibsp, sex\n",
    "* **Node**: Each node is labeled with a feature. The arcs coming from a node labeled with a feature are labeled with each of the possible values of the feature.\n",
    "* **Classification And Regression Tree (CART)** is a general name for decision trees."
   ]
  },
  {
   "cell_type": "markdown",
   "metadata": {},
   "source": [
    "\n",
    "\n",
    "![decision-tree example](https://upload.wikimedia.org/wikipedia/commons/f/f3/CART_tree_titanic_survivors.png)"
   ]
  },
  {
   "cell_type": "markdown",
   "metadata": {},
   "source": [
    "### Types of Decision trees\n",
    "* **Classification tree** analysis is when the predicted outcome is the class to which the data belongs.\n",
    "* **Regression tree** analysis is when the predicted outcome can be considered a real number (e.g. the price of a house, or a patient’s length of stay in a hospital)."
   ]
  },
  {
   "cell_type": "markdown",
   "metadata": {},
   "source": [
    "#### Attributes of Decision Trees\n",
    "* Low bias\n",
    "* High variance\n",
    "* Prone to overfitting\n",
    "\n",
    "![biasvsvariance](http://www.mdpi.com/entropy/entropy-16-05242/article_deploy/html/images/entropy-16-05242f6-1024.png)"
   ]
  },
  {
   "cell_type": "markdown",
   "metadata": {},
   "source": [
    "### Why Random Forests?\n",
    "* Few tuning parameters\n",
    "* Good performance\n",
    "* Easy to use\n",
    "* Don't need to standardize training data\n",
    "* Automatically quantifies the importance of each feature for you.\n",
    "* An ensemble learning method\n",
    "    * Taking multiple learning methods and aggregating their results\n"
   ]
  },
  {
   "cell_type": "markdown",
   "metadata": {},
   "source": [
    "### Random Forests\n",
    "* A random forest is simply, a collection of decision trees.\n",
    "* Random Forests operate by constructing a multitude of decision trees at training time and outputting the class that is the mode of the classes (classification) or mean prediction (regression) of the individual trees. \n",
    "* Random decision forests correct for decision trees' habit of overfitting to their training set.  \n",
    "* In particular, trees that are grown very deep tend to learn highly irregular patterns: they overfit their training sets, because they have low bias, but very high variance. Random forests are a way of averaging multiple deep decision trees, trained on different parts of the same training set, with the goal of reducing the variance.This comes at the expense of a small increase in the bias and some loss of interpretability, but generally greatly boosts the performance of the final model.  "
   ]
  },
  {
   "cell_type": "markdown",
   "metadata": {},
   "source": [
    "#### Bootstrap Aggregating (Tree bagging)\n",
    "The training algorithm for random forests applies the general technique of **bootstrap aggregating**, or bagging, to tree learners.  \n",
    "\n",
    "This will reduce the variance without increasing bias!  \n",
    "This means that while the predictions of a single tree are highly sensitive to noise in its training set, the average of many trees is not, as long as the trees are not correlated. Simply training many trees on a single training set would give strongly correlated trees (or even the same tree many times, if the training algorithm is deterministic); bootstrap sampling is a way of de-correlating the trees by showing them different training sets.\n",
    "\n",
    "Given a training set $X = x_1, ..., x_n$ with responses $Y = y_1, ..., y_n$, bagging repeatedly (B times) selects a random sample with replacement of the training set and fits trees to these samples\n",
    "\n",
    "For $b = 1, ..., B$:\n",
    "1. Sample, with replacement, $n$ training examples from $X$, $Y$; call these $X_b, Y_b$.\n",
    "2. Train a decision or regression tree $f_b$ on $X_b, Y_b$.\n",
    "\n",
    "After training, predictions for unseen samples $x'$ can be made by averaging the predictions from all the individual regression trees on $x'$:\n",
    "\n",
    "$\\hat{f} = \\frac{1}{B} \\sum_{b=1}^B \\hat{f}_b (x')$\n",
    "\n",
    "or by taking the majority vote in the case of decision trees.  \n",
    ".  \n",
    ".  \n",
    "\n",
    "Given a new data point, we will run it through each decision tree in the forest and record how many trees vote for it to be a dead (blue) and how many vote for it to be alive (green). Whichever color gets the most votes, that’s the decision that the random forest makes. \n",
    "\n",
    "![combining trees](https://shapeofdata.files.wordpress.com/2013/07/randforest.png)\n",
    "\n",
    "The distributions defined by two decision trees are shown on the left and middle. The final distribution, shown on the right, comes from super-imposing the decision boundaries of the two individual trees. Each region in the resulting distribution is colored green if it is contained in green regions in both of the original two trees. It’s colored blue if it is contained in two blue regions, and grey if it is in one of each. These grey regions are ties.  \n",
    ".  \n",
    ".  \n",
    "\n",
    "##### Tuning Parameters\n",
    "1. Number of trees $B$\n",
    "    * More is better\n",
    "    * Diminishing returns\n",
    "    * Slower \n",
    "    * Typically, a few hundred to several thousand trees are used, depending on the size and nature of the training set. An optimal number of trees $B$ can be found using cross-validation, or by observing the 'out-of-bag error': the mean prediction error on each training sample $x_i$, using only the trees that did not have $x_i$ in their bootstrap sample. The training and test error tend to level off after some number of trees have been fit.\n",
    "    * Too few trees, and not all samples will be accounted for\n",
    "2. Number of features\n",
    "    * Just like we randomly selected datapoints to create our trees, we will also randomly select the features used to make each tree.\n",
    "    * This decreases correlation between each tree. (same features $->$ same results) \n",
    "    * Typically, for a classification problem with p features, $\\sqrt{p}$ (rounded down) features are used in each split. For regression problems the inventors recommend p/3 (rounded down) with a minimum node size of 5 as the default.\n",
    "3. Depth of trees\n",
    "    * If you go to deep, you risk overfitting the data\n",
    "    * It's hard to know ahead of time how deep the trees are and what limit to place."
   ]
  },
  {
   "cell_type": "markdown",
   "metadata": {},
   "source": [
    "## Using sklearn's Random forest"
   ]
  },
  {
   "cell_type": "markdown",
   "metadata": {},
   "source": [
    "##### Get our data and format it a little bit"
   ]
  },
  {
   "cell_type": "code",
   "execution_count": 27,
   "metadata": {
    "collapsed": true
   },
   "outputs": [],
   "source": [
    "from sklearn import cross_validation\n",
    "from sklearn.ensemble import RandomForestClassifier\n",
    "import numpy as np\n",
    "from matplotlib import pyplot as plt\n",
    "import pandas as pd\n",
    "%matplotlib inline"
   ]
  },
  {
   "cell_type": "code",
   "execution_count": 28,
   "metadata": {
    "collapsed": false
   },
   "outputs": [],
   "source": [
    "def format_titanic_data(trainfile,testfile,predictors):\n",
    "    titanic = pd.read_csv(trainfile)\n",
    "    test = pd.read_csv(testfile)\n",
    "    '''convert data to usable values'''\n",
    "    for data in [titanic,test]:\n",
    "        #replace Sex with numbers\n",
    "        data.loc[data.Sex=='male','Sex']  = 0\n",
    "        data.loc[data.Sex=='female','Sex']= 1\n",
    "        #replace Embarked values with numbers\n",
    "        data.Embarked = data.Embarked.fillna('S')\n",
    "        data.loc[data.Embarked == 'S', 'Embarked']    =0\n",
    "        data.loc[data.Embarked == 'C', 'Embarked']    =1\n",
    "        data.loc[data.Embarked == 'Q', 'Embarked']    =2\n",
    "    \n",
    "    for field in predictors:\n",
    "        titanic[field] = titanic[field].fillna(titanic[field].median())\n",
    "        test[field] = test[field].fillna(titanic[field].median())\n",
    "    return titanic, test\n",
    "trainfile = '~/databases/titanic/train.csv'\n",
    "testfile = '~/databases/titanic/test.csv'\n",
    "predictors = [\"Pclass\", \"Sex\", \"Age\", \"SibSp\", \"Parch\", \"Fare\", \"Embarked\"]\n",
    "titanic,test = format_titanic_data(trainfile,testfile,predictors)"
   ]
  },
  {
   "cell_type": "markdown",
   "metadata": {},
   "source": [
    "##### Imputation\n",
    "* Filling in missing values\n",
    "* Median is usually used for decision trees\n",
    "* Column missing entirely?\n",
    "    * Fill all the nans uniformly. (example is all zeros)\n",
    "    * Because there is no variance in this column, it will never be chosen in the decision trees\n",
    "    "
   ]
  },
  {
   "cell_type": "code",
   "execution_count": 29,
   "metadata": {
    "collapsed": false
   },
   "outputs": [],
   "source": [
    "#sklearn can do it just like pandas can! but only if data is all numbers\n",
    "def imputation_with_sklearn():\n",
    "    from sklearn.preprocessing import Imputer\n",
    "    imp = Imputer(strategy='median')\n",
    "    imp.fit(titanic)\n",
    "    imputed_train = imp.transform(titanic)\n",
    "    #remember, you need to use the median of the training data, not the test data\n",
    "    imputed_test= imp.transform(test)\n"
   ]
  },
  {
   "cell_type": "code",
   "execution_count": 30,
   "metadata": {
    "collapsed": true
   },
   "outputs": [],
   "source": [
    "#what if features are missing entirely?\n",
    "def missing_column_example():\n",
    "    mask = np.all(np.isnan(train),axis=0)\n",
    "    train[:,mask] = 0.0"
   ]
  },
  {
   "cell_type": "markdown",
   "metadata": {},
   "source": [
    "#### Implement random forest algorithm"
   ]
  },
  {
   "cell_type": "code",
   "execution_count": 31,
   "metadata": {
    "collapsed": false
   },
   "outputs": [
    {
     "name": "stdout",
     "output_type": "stream",
     "text": [
      "0.820426487093\n"
     ]
    }
   ],
   "source": [
    "#%%timeit\n",
    "alg = RandomForestClassifier(random_state=1, \n",
    "                             n_estimators=150,           #number of trees\n",
    "                             max_features='auto',        #number of features to consider at each split\n",
    "                             max_depth = None,           #depth of tree if known      \n",
    "                             min_samples_split=4,        #tree won't split unless at least this many samples in each branch\n",
    "                             min_samples_leaf=2,         #tree won't split unless at least this many samples in each leaf\n",
    "                             min_weight_fraction_leaf=0, #similar to min_samples_leaf except comparative\n",
    "                             max_leaf_nodes=None,        #contraining the depth by limiting the number of leaves\n",
    "                             n_jobs=4)                   #number of cores to use in calculation. default = 1, -1 means use all cores\n",
    "predictions = cross_validation.cross_val_predict(alg, \n",
    "                                                 titanic[predictors], \n",
    "                                                 titanic[\"Survived\"], \n",
    "                                                 cv=3)\n",
    "scores = cross_validation.cross_val_score(alg, \n",
    "                                          titanic[predictors], \n",
    "                                          titanic[\"Survived\"], \n",
    "                                          cv=3, \n",
    "                                          scoring ='accuracy' )\n",
    "print np.mean(scores)"
   ]
  },
  {
   "cell_type": "code",
   "execution_count": 32,
   "metadata": {
    "collapsed": false
   },
   "outputs": [
    {
     "data": {
      "image/png": "[encoded data removed]",
      "text/plain": [
       "<matplotlib.figure.Figure at 0x7f774089dc10>"
      ]
     },
     "metadata": {},
     "output_type": "display_data"
    }
   ],
   "source": [
    "#lets play around with our number of trees\n",
    "trees = range(1,200)\n",
    "allscores = []\n",
    "for i in trees:\n",
    "    \n",
    "    alg = RandomForestClassifier(random_state=1, \n",
    "                                 n_estimators=i)\n",
    "    predictions = cross_validation.cross_val_predict(alg, \n",
    "                                                     titanic[predictors], \n",
    "                                                     titanic[\"Survived\"], \n",
    "                                                     cv=3)\n",
    "    scores = cross_validation.cross_val_score(alg, \n",
    "                                              titanic[predictors], \n",
    "                                              titanic[\"Survived\"], \n",
    "                                              cv=3, \n",
    "                                              scoring ='accuracy' )\n",
    "    allscores.append(np.mean(scores))\n",
    "plt.plot(trees,allscores)\n",
    "plt.show()"
   ]
  },
  {
   "cell_type": "code",
   "execution_count": 26,
   "metadata": {
    "collapsed": false
   },
   "outputs": [
    {
     "data": {
      "image/png": "[encoded data removed]",
      "text/plain": [
       "<matplotlib.figure.Figure at 0x7f77409aa0d0>"
      ]
     },
     "metadata": {},
     "output_type": "display_data"
    }
   ],
   "source": [
    "#lets play around with our number of trees and min leaf size\n",
    "trees = range(1,501,100)\n",
    "minsampleleafs= [1,3,5,7,10,20,50,100]\n",
    "allscores = np.zeros((len(trees),len(minsampleleafs)))\n",
    "for i,tree in enumerate(trees):\n",
    "    for j,leaf in enumerate(minsampleleafs):\n",
    "        alg = RandomForestClassifier(min_samples_leaf=leaf,   \n",
    "                                     n_estimators=tree)\n",
    "        predictions = cross_validation.cross_val_predict(alg, \n",
    "                                                         titanic[predictors], \n",
    "                                                         titanic[\"Survived\"], \n",
    "                                                         cv=3)\n",
    "        scores = cross_validation.cross_val_score(alg, \n",
    "                                                  titanic[predictors], \n",
    "                                                  titanic[\"Survived\"], \n",
    "                                                  cv=3, \n",
    "                                                  scoring ='accuracy' )\n",
    "        allscores[i,j]=np.mean(scores)\n",
    "plt.pcolormesh(minsampleleafs,trees,allscores)\n",
    "plt.colorbar()\n",
    "plt.show()"
   ]
  },
  {
   "cell_type": "code",
   "execution_count": 80,
   "metadata": {
    "collapsed": false
   },
   "outputs": [
    {
     "name": "stdout",
     "output_type": "stream",
     "text": [
      "[0 0 0 1 0 0 0 0 1 0 0 0 1 0 1 1 0 1 0 0 1 1 1 1 1 0 1 1 1 0 0 0 1 0 1 1 0\n",
      " 0 0 1 0 1 0 1 1 0 0 0 1 1 1 0 1 1 0 0 0 0 0 1 0 0 0 1 1 1 1 0 0 1 1 0 0 0\n",
      " 1 0 0 1 0 1 1 0 0 0 0 0 1 0 1 1 0 0 1 0 0 0 1 0 0 0 1 0 0 0 0 0 0 0 0 0 0\n",
      " 1 1 0 1 0 0 1 0 1 1 0 1 0 0 1 0 1 0 0 1 0 0 0 0 0 0 0 0 0 0 1 0 0 1 0 0 0\n",
      " 1 0 1 0 0 1 0 0 1 1 1 1 1 1 1 0 0 0 0 0 1 0 0 0 0 0 0 1 1 1 1 1 0 0 1 0 1\n",
      " 0 1 0 0 0 0 0 1 0 1 0 1 0 0 0 1 1 0 1 0 0 0 0 1 0 0 0 0 1 0 0 1 0 1 0 1 0\n",
      " 1 1 1 0 0 1 0 0 0 1 0 0 1 0 0 1 1 1 1 1 0 0 0 0 1 0 1 0 1 0 0 0 0 0 0 0 1\n",
      " 0 0 0 1 1 0 0 0 0 0 0 0 0 1 1 0 1 0 0 0 0 0 1 1 0 1 0 0 0 0 0 0 0 0 0 0 0\n",
      " 1 0 0 0 0 0 0 0 1 1 1 1 0 0 0 1 0 0 1 1 0 0 0 0 0 0 0 1 1 0 1 0 0 0 1 0 0\n",
      " 0 0 0 1 0 0 0 0 0 0 1 0 1 0 0 0 1 1 0 0 0 1 0 1 0 0 1 0 1 1 1 1 0 0 0 1 1\n",
      " 0 1 0 0 1 1 0 0 0 0 0 0 1 0 0 1 0 0 0 0 0 1 0 0 0 1 0 1 0 0 1 0 1 0 0 1 0\n",
      " 0 1 1 1 1 0 0 1 0 0 1]\n",
      "   PassengerId  Survived\n",
      "0          892         0\n",
      "1          893         0\n",
      "2          894         0\n",
      "3          895         1\n",
      "4          896         0\n",
      "5          897         0\n",
      "6          898         0\n",
      "7          899         0\n",
      "8          900         1\n",
      "9          901         0\n"
     ]
    }
   ],
   "source": [
    "alg.fit(titanic[predictors],\n",
    "        titanic[\"Survived\"])\n",
    "prediction = alg.predict(test[predictors])\n",
    "print prediction\n",
    "\n",
    "#save it \n",
    "submission = pd.DataFrame({ \"Survived\": prediction,\"PassengerId\":test.PassengerId})\n",
    "submission.to_csv('~/databases/titanic/submission_rf1',index=False)\n",
    "print submission[:10]"
   ]
  },
  {
   "cell_type": "markdown",
   "metadata": {},
   "source": [
    "### Feature Importances\n",
    "* The closer to the root a feature is, the more important it is in predicting. sklearn has a built in method for finding the average importance of a feature."
   ]
  },
  {
   "cell_type": "code",
   "execution_count": 91,
   "metadata": {
    "collapsed": false
   },
   "outputs": [
    {
     "data": {
      "image/png": "[encoded data removed]",
      "text/plain": [
       "<matplotlib.figure.Figure at 0x7f1b91d94510>"
      ]
     },
     "metadata": {},
     "output_type": "display_data"
    }
   ],
   "source": [
    "plt.bar(np.arange(len(predictors)),alg.feature_importances_,tick_label=predictors)\n",
    "plt.xticks(np.arange(len(predictors))+.5)\n",
    "plt.show()"
   ]
  },
  {
   "cell_type": "markdown",
   "metadata": {},
   "source": [
    "##### Sources\n",
    "https://shapeofdata.wordpress.com/2013/07/09/random-forests/\n",
    "https://en.wikipedia.org/wiki/Random_forest#Preliminaries:_decision_tree_learning  \n",
    "https://www.dataquest.io/mission/75/improving-your-submission"
   ]
  },
  {
   "cell_type": "code",
   "execution_count": null,
   "metadata": {
    "collapsed": true
   },
   "outputs": [],
   "source": []
  }
 ],
 "metadata": {
  "kernelspec": {
   "display_name": "Python 2",
   "language": "python",
   "name": "python2"
  },
  "language_info": {
   "codemirror_mode": {
    "name": "ipython",
    "version": 2
   },
   "file_extension": ".py",
   "mimetype": "text/x-python",
   "name": "python",
   "nbconvert_exporter": "python",
   "pygments_lexer": "ipython2",
   "version": "2.7.11"
  }
 },
 "nbformat": 4,
 "nbformat_minor": 0
}
